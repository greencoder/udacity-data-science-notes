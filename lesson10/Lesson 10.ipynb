{
 "cells": [
  {
   "cell_type": "markdown",
   "metadata": {},
   "source": [
    "# Ridership per Station"
   ]
  },
  {
   "cell_type": "code",
   "execution_count": 1,
   "metadata": {},
   "outputs": [],
   "source": [
    "import sys\n",
    "import string\n",
    "import logging\n",
    "\n",
    "from util import mapper_logfile\n",
    "\n",
    "logging.basicConfig(filename=mapper_logfile, format='%(message)s', level=logging.INFO, filemode='w')"
   ]
  },
  {
   "cell_type": "markdown",
   "metadata": {},
   "source": [
    "For each line of input, the mapper output should PRINT (not return) the `UNIT` as the key, the number of `ENTRIESn_hourly` as the value, and separate the key and the value by a tab. \n",
    "\n",
    "For example:\n",
    "```\n",
    "'R002\\t105105.0\n",
    "```"
   ]
  },
  {
   "cell_type": "code",
   "execution_count": 3,
   "metadata": {},
   "outputs": [],
   "source": [
    "def mapper():\n",
    "    for line in sys.stdin:\n",
    "        # Ignore the header\n",
    "        if line.startswith(','):\n",
    "            continue\n",
    "        else:\n",
    "            data = line.strip().split(',')\n",
    "            unit = data[1]\n",
    "            entries = data[6]\n",
    "            print '{0}\\t{1}'.format(unit, entries)\n",
    "        \n",
    "mapper()"
   ]
  },
  {
   "cell_type": "markdown",
   "metadata": {},
   "source": [
    "Given the output of the mapper for this exercise, the reducer should PRINT (not return) one line per `UNIT` along with the total number of `ENTRIESn_hourly`  over the course of May (which is the duration of our data), separated by a tab.\n",
    "\n",
    "An example output row from the reducer might look like this: \n",
    "```\n",
    "R001\\t500625.0\n",
    "```\n",
    "\n",
    "You can assume that the input to the reducer is sorted such that all rows corresponding to a particular `UNIT` are grouped together."
   ]
  },
  {
   "cell_type": "code",
   "execution_count": 4,
   "metadata": {
    "collapsed": true
   },
   "outputs": [],
   "source": [
    "def reducer():\n",
    "    total_entries = 0\n",
    "    old_unit = None\n",
    "\n",
    "    for line in sys.stdin:\n",
    "        data = line.strip().split('\\t')\n",
    "        \n",
    "        if len(data) != 2:\n",
    "            continue\n",
    "        \n",
    "        this_unit, entries = data\n",
    "        \n",
    "        # If we found a new unit, print out the data up to here\n",
    "        if old_unit and old_unit != this_unit:\n",
    "            print '{0}\\t{1}'.format(old_unit, total_entries)\n",
    "            total_entries = 0\n",
    "        \n",
    "        old_unit = this_unit\n",
    "        total_entries += float(entries)\n",
    "        \n",
    "        if old_unit != None:\n",
    "            print '{0}\\t{1}'.format(old_unit, total_entries)\n",
    "            \n",
    "reducer()"
   ]
  },
  {
   "cell_type": "markdown",
   "metadata": {},
   "source": [
    "# Ridership by Weather Type"
   ]
  },
  {
   "cell_type": "markdown",
   "metadata": {},
   "source": [
    "For this exercise, compute the average value of the `ENTRIESn_hourly` column  for different weather types. Weather type will be defined based on the combination of the columns fog and rain (which are boolean values).\n",
    "\n",
    "For example, one output of our reducer would be the average hourly entries across all hours when it was raining but not foggy.\n",
    "\n",
    "Each line of input will be a row from our final Subway-MTA dataset in csv format."
   ]
  },
  {
   "cell_type": "code",
   "execution_count": 8,
   "metadata": {
    "collapsed": true
   },
   "outputs": [],
   "source": [
    "def mapper():\n",
    "\n",
    "    def format_key(fog, rain):\n",
    "        return '{}fog-{}rain'.format(\n",
    "            '' if fog else 'no',\n",
    "            '' if rain else 'no'\n",
    "        )\n",
    "    \n",
    "    for line in sys.stdin:\n",
    "        data = line.strip().split(',')\n",
    "        if len(data) != 22 or data[1] == \"UNIT\":\n",
    "            continue\n",
    "\n",
    "        # Must convert to an int here so the format_key \n",
    "        # function will work. This cost me a lot of time.\n",
    "        fog = int(float(data[14])) \n",
    "        rain = int(float(data[15]))\n",
    "\n",
    "        entries = float(data[6])\n",
    "        key = format_key(fog, rain)\n",
    "        \n",
    "        print '{0}\\t{1}'.format(key, entries)    \n",
    "\n",
    "mapper()"
   ]
  },
  {
   "cell_type": "code",
   "execution_count": 9,
   "metadata": {
    "collapsed": true
   },
   "outputs": [],
   "source": [
    "def reducer():\n",
    "    riders = 0      # The number of total riders for this key\n",
    "    num_hours = 0   # The number of hours with this key\n",
    "    old_key = None\n",
    "\n",
    "    for line in sys.stdin:\n",
    "        data = line.strip().split('\\t')\n",
    "        \n",
    "        if len(data) != 2:\n",
    "            continue\n",
    "        \n",
    "        this_key, entries = data\n",
    "        \n",
    "        # If we found a new key, print out the data up to here\n",
    "        if old_key and old_key != this_key:\n",
    "            logging.info(\"Old Key: %s, This Key: %s\" % (old_key, this_key))\n",
    "            avg_riders = riders / num_hours\n",
    "            print '{0}\\t{1}'.format(old_key, avg_riders)\n",
    "            riders = 0\n",
    "            num_hours = 0\n",
    "        \n",
    "        old_key = this_key\n",
    "        riders += float(entries)\n",
    "        num_hours += 1.0\n",
    "        \n",
    "        if old_key != None:\n",
    "            avg_riders = riders / num_hours\n",
    "            print '{0}\\t{1}'.format(old_key, avg_riders)\n",
    "        \n",
    "reducer()"
   ]
  },
  {
   "cell_type": "markdown",
   "metadata": {},
   "source": [
    "# Busiest Hour"
   ]
  },
  {
   "cell_type": "markdown",
   "metadata": {},
   "source": [
    "In this exercise, for each turnstile unit, you will determine the date and time (in the span of this data set) at which the most people entered through the unit.\n",
    "    \n",
    "For each line, the mapper should return the `UNIT`, `ENTRIESn_hourly`, `DATEn`, and `TIMEn` columns, separated by tabs. \n",
    "\n",
    "For example:\n",
    "```\n",
    "R001\\t100000.0\\t2011-05-01\\t01:00:00\n",
    "```"
   ]
  },
  {
   "cell_type": "code",
   "execution_count": 10,
   "metadata": {
    "collapsed": true
   },
   "outputs": [],
   "source": [
    "import sys\n",
    "import string\n",
    "import logging\n",
    "\n",
    "from util import mapper_logfile\n",
    "\n",
    "logging.basicConfig(filename=mapper_logfile, format='%(message)s', level=logging.INFO, filemode='w')"
   ]
  },
  {
   "cell_type": "code",
   "execution_count": 11,
   "metadata": {
    "collapsed": true
   },
   "outputs": [],
   "source": [
    "def mapper():\n",
    "    for line in sys.stdin:\n",
    "        data = line.strip().split(',')\n",
    "\n",
    "        if len(data) != 22 or data[1] == \"UNIT\":\n",
    "            continue\n",
    "\n",
    "        unit = data[1]\n",
    "        date = data[2]\n",
    "        time = data[3]\n",
    "        entries = float(data[6])\n",
    "        print '{0}\\t{1}\\t{2}\\t{3}'.format(unit, entries, date, time) \n",
    "\n",
    "mapper()"
   ]
  },
  {
   "cell_type": "markdown",
   "metadata": {},
   "source": [
    "Write a reducer that will compute the busiest date and time (that is, the date and time with the most entries) for each turnstile unit. Ties should  be broken in favor of datetimes that are later on in the month of May. You may assume that the contents of the reducer will be sorted so that all entries corresponding to a given UNIT will be grouped together.\n",
    "    \n",
    "The reducer should print its output with the `UNIT` name, the datetime (which is the `DATEn` followed by the `TIMEn` column, separated by a single space), and  the number of entries at this datetime, separated by tabs.\n",
    "\n",
    "For example, the output of the reducer should look like this:\n",
    "```\n",
    "R001    2011-05-11 17:00:00\t   31213.0\n",
    "R002\t2011-05-12 21:00:00\t   4295.0\n",
    "R003\t2011-05-05 12:00:00\t   995.0\n",
    "R004\t2011-05-12 12:00:00\t   2318.0\n",
    "R005\t2011-05-10 12:00:00\t   2705.0\n",
    "R006\t2011-05-25 12:00:00\t   2784.0\n",
    "R007\t2011-05-10 12:00:00\t   1763.0\n",
    "R008\t2011-05-12 12:00:00\t   1724.0\n",
    "R009\t2011-05-05 12:00:00\t   1230.0\n",
    "R010\t2011-05-09 18:00:00\t   30916.0\n",
    "...\n",
    "...\n",
    "```"
   ]
  },
  {
   "cell_type": "code",
   "execution_count": 13,
   "metadata": {
    "collapsed": true
   },
   "outputs": [],
   "source": [
    "def reducer():\n",
    "    max_entries = 0\n",
    "    old_unit = None\n",
    "    datetime = ''\n",
    "\n",
    "    for line in sys.stdin:\n",
    "        data = line.strip().split('\\t')\n",
    "\n",
    "        if len(data) != 4:\n",
    "            continue\n",
    "        \n",
    "        current_unit, entries, date, time = data\n",
    "        current_entries = float(entries)\n",
    "        current_datetime = date + ' ' + time\n",
    "\n",
    "        if old_unit and old_unit != current_unit:\n",
    "            print \"{0}\\t{1}\\t{2}\".format(old_unit, datetime, max_entries)\n",
    "            max_entries = 0\n",
    "\n",
    "        # If this record has more entries than what we have seen yet\n",
    "        if current_entries >= max_entries:\n",
    "            old_unit = current_unit\n",
    "            datetime = current_datetime\n",
    "            max_entries = current_entries\n",
    "\n",
    "        # If there is a tie\n",
    "        if current_entries == max_entries:\n",
    "            if current_datetime > datetime:\n",
    "                datetime = current_datetime\n",
    "\n",
    "        if old_unit != None:\n",
    "            print \"{0}\\t{1}\\t{2}\".format(old_unit, datetime, max_entries)\n",
    "\n",
    "reducer()"
   ]
  }
 ],
 "metadata": {
  "kernelspec": {
   "display_name": "Python 2",
   "language": "python",
   "name": "python2"
  },
  "language_info": {
   "codemirror_mode": {
    "name": "ipython",
    "version": 2
   },
   "file_extension": ".py",
   "mimetype": "text/x-python",
   "name": "python",
   "nbconvert_exporter": "python",
   "pygments_lexer": "ipython2",
   "version": "2.7.10"
  }
 },
 "nbformat": 4,
 "nbformat_minor": 2
}
