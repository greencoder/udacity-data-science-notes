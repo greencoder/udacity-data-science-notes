{
 "cells": [
  {
   "cell_type": "markdown",
   "metadata": {},
   "source": [
    "# Welch's T-Test Exercise"
   ]
  },
  {
   "cell_type": "code",
   "execution_count": 2,
   "metadata": {
    "collapsed": true
   },
   "outputs": [],
   "source": [
    "import numpy\n",
    "import scipy.stats\n",
    "import pandas"
   ]
  },
  {
   "cell_type": "markdown",
   "metadata": {},
   "source": [
    "Perform a t-test on two sets of baseball data (left-handed and right-handed hitters).\n",
    "\n",
    "You will be given a csv file that has three columns.  A player's `name`, `handedness` (`L` for lefthanded or `R` for righthanded) and their career batting average (called `avg`).\n",
    "    \n",
    "Write a function that will read that the csv file into a pandas data frame, and run Welch's t-test on the two cohorts defined by handedness.\n",
    "    \n",
    "One cohort should be a data frame of right-handed batters. And the other cohort should be a data frame of left-handed batters.\n",
    "    \n",
    "We have included the `scipy.stats` library to help you write or implement Welch's t-test: http://docs.scipy.org/doc/scipy/reference/stats.html\n",
    "    \n",
    "With a significance level of 95%, if there is no difference between the two cohorts, return a tuple consisting of `True`, and then the tuple returned by `scipy.stats.ttest`.  \n",
    "    \n",
    "If there is a difference, return a tuple consisting of `False`, and then the tuple returned by `scipy.stats.ttest`.\n",
    "    \n",
    " For example, the tuple that you return may look like:\n",
    " ```\n",
    " (True, (9.93570222, 0.000023))\n",
    " ```"
   ]
  },
  {
   "cell_type": "code",
   "execution_count": 15,
   "metadata": {},
   "outputs": [
    {
     "data": {
      "text/plain": [
       "(False, (9.9357022262420944, 3.8102742258887383e-23))"
      ]
     },
     "execution_count": 15,
     "metadata": {},
     "output_type": "execute_result"
    }
   ],
   "source": [
    "def compare_averages(filename):\n",
    "    df = pandas.read_csv(filename)\n",
    "    \n",
    "    # Lefties\n",
    "    df_l = df[df['handedness'] == 'L']\n",
    "    \n",
    "    # Righties\n",
    "    df_r = df[df['handedness'] == 'R']\n",
    "    \n",
    "    # Run the Welch's t-test\n",
    "    t_statistic, p_value = scipy.stats.ttest_ind(df_l['avg'], df_r['avg'], equal_var=False)\n",
    "    \n",
    "    # Is the p value greater than 0.05? (a 95% confidence interval)\n",
    "    is_diff = p_value > 0.05\n",
    "    \n",
    "    # Return the tuple with the nested tuple\n",
    "    return (is_diff, (t_statistic, p_value))\n",
    "\n",
    "compare_averages('baseball_stats.csv')"
   ]
  }
 ],
 "metadata": {
  "kernelspec": {
   "display_name": "Python 2",
   "language": "python",
   "name": "python2"
  },
  "language_info": {
   "codemirror_mode": {
    "name": "ipython",
    "version": 2
   },
   "file_extension": ".py",
   "mimetype": "text/x-python",
   "name": "python",
   "nbconvert_exporter": "python",
   "pygments_lexer": "ipython2",
   "version": "2.7.10"
  }
 },
 "nbformat": 4,
 "nbformat_minor": 2
}
