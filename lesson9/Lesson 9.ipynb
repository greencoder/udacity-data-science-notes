{
 "cells": [
  {
   "cell_type": "markdown",
   "metadata": {},
   "source": [
    "# Counting Words Serially"
   ]
  },
  {
   "cell_type": "markdown",
   "metadata": {},
   "source": [
    "For this exercise, write a program that serially counts the number of occurrences of each word in the book Alice in Wonderland. The text of Alice in Wonderland will be fed into your program line-by-line.\n",
    "\n",
    "Your program needs to take each line and do the following:\n",
    "\n",
    "1. Tokenize the line into string tokens by whitespace. For Example: `Hello, World!` should be converted into `Hello`,  and `World!` (This part has been done for you.)\n",
    "2. Remove all punctuation. Example: `Hello`, and `World!` should be converted into `Hello` and `World`\n",
    "3. Make all letters lowercase. Example: `Hello` and `World` should be converted to `hello` and `world`\n",
    "\n",
    "Store the the number of times that a word appears in Alice in Wonderland in the `word_counts` dictionary, and then *print* (don't return) that dictionary.\n",
    "\n",
    "In this exercise, print statements will be considered your final output. Because of this, printing a debug statement will cause the grader to break. Instead, you can use the logging module which we've configured for you.\n",
    "\n",
    "For example:\n",
    "```\n",
    "logging.info(\"My debugging message\")\n",
    "```\n",
    "\n",
    "The logging module can be used to give you more control over your debugging or other messages than you can get by printing them. Messages  logged via the logger we configured will be saved to a file. If you click \"Test Run\", then you will see the contents of that file once your program has finished running."
   ]
  },
  {
   "cell_type": "code",
   "execution_count": 9,
   "metadata": {},
   "outputs": [],
   "source": [
    "import logging\n",
    "import sys\n",
    "import string\n",
    "\n",
    "from util import logfile\n",
    "\n",
    "logging.basicConfig(filename=logfile, format='%(message)s', level=logging.INFO, filemode='w')\n",
    "\n",
    "def word_count():\n",
    "    word_counts = {}\n",
    "    for line in sys.stdin:\n",
    "        data = line.strip().split(\" \")\n",
    "        for word in data:\n",
    "            key = word.translate(string.maketrans(\"\", \"\"), string.punctuation).lower()\n",
    "            if word_counts.has_key(word):\n",
    "                word_counts[word] += 1\n",
    "            else:\n",
    "                word_counts[word] = 1\n",
    "\n",
    "    logging.info(word_counts)\n",
    "\n",
    "word_count()"
   ]
  },
  {
   "cell_type": "markdown",
   "metadata": {},
   "source": [
    "# Mapper and Reducer with Aadhaar Data"
   ]
  },
  {
   "cell_type": "markdown",
   "metadata": {},
   "source": [
    "Each line will be a comma-separated list of values. The header row WILL be included. Tokenize each row using the commas, and emit (i.e. print) a key-value pair containing the  district (not state) and Aadhaar generated, separated by a tab.  Skip rows without the correct number of tokens and also skip the header row.\n",
    "\n",
    "Since you are printing the output of your program, printing a debug  statement will interfere with the operation of the grader. Instead,  use the logging module, which we've configured to log to a file printed when you click \"Test Run\". \n",
    "\n",
    "For example: \n",
    "```\n",
    "logging.info(\"My debugging message\")\n",
    "```"
   ]
  },
  {
   "cell_type": "code",
   "execution_count": null,
   "metadata": {
    "collapsed": true
   },
   "outputs": [],
   "source": [
    "# Mapper\n",
    "\n",
    "import sys\n",
    "import string\n",
    "import logging\n",
    "\n",
    "from util import mapper_logfile\n",
    "logging.basicConfig(filename=mapper_logfile, format='%(message)s',\n",
    "                    level=logging.INFO, filemode='w')\n",
    "\n",
    "def mapper():\n",
    "    for line in sys.stdin:\n",
    "        data = line.strip().split(\",\")\n",
    "        if len(data) != 12 or data[0] == 'Registrar':\n",
    "            continue\n",
    "        print '{0}\\t{1}'.format(data[3], data[8])\n",
    "\n",
    "mapper()"
   ]
  },
  {
   "cell_type": "code",
   "execution_count": 10,
   "metadata": {
    "collapsed": true
   },
   "outputs": [],
   "source": [
    "# Reducer\n",
    "\n",
    "def reducer():\n",
    "    aadhar_generated = 0\n",
    "    old_key = None\n",
    "\n",
    "    for line in sys.stdin:\n",
    "        data = line.strip().split('\\t')\n",
    "    \n",
    "        if len(data) != 2:\n",
    "            continue\n",
    "        \n",
    "        this_key, count = data\n",
    "        if old_key and old_key != this_key:\n",
    "            print '{0}\\t{1}'.format(old_key, aadhar_generated)\n",
    "            aadhar_generated = 0\n",
    "        \n",
    "        old_key = this_key\n",
    "        aahar_generated += float(count)\n",
    "        \n",
    "        if old_key != None:\n",
    "            print '{0}\\t{1}'.format(old_key, aadhar_generated)\n",
    "        \n",
    "\n",
    "reducer()"
   ]
  }
 ],
 "metadata": {
  "kernelspec": {
   "display_name": "Python 2",
   "language": "python",
   "name": "python2"
  },
  "language_info": {
   "codemirror_mode": {
    "name": "ipython",
    "version": 2
   },
   "file_extension": ".py",
   "mimetype": "text/x-python",
   "name": "python",
   "nbconvert_exporter": "python",
   "pygments_lexer": "ipython2",
   "version": "2.7.10"
  }
 },
 "nbformat": 4,
 "nbformat_minor": 2
}
